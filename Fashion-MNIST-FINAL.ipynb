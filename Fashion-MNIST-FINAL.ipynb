{
 "cells": [
  {
   "cell_type": "code",
   "execution_count": 1,
   "metadata": {},
   "outputs": [
    {
     "name": "stderr",
     "output_type": "stream",
     "text": [
      "/Users/prinklek/anaconda3/lib/python3.6/site-packages/sklearn/cross_validation.py:44: DeprecationWarning: This module was deprecated in version 0.18 in favor of the model_selection module into which all the refactored classes and functions are moved. Also note that the interface of the new CV iterators are different from that of this module. This module will be removed in 0.20.\n",
      "  \"This module will be removed in 0.20.\", DeprecationWarning)\n"
     ]
    }
   ],
   "source": [
    "import numpy as np\n",
    "import pandas as pd\n",
    "import matplotlib.pyplot as plt\n",
    "%matplotlib inline\n",
    "from sklearn.cross_validation import train_test_split\n",
    "from skimage import img_as_float, img_as_ubyte"
   ]
  },
  {
   "cell_type": "code",
   "execution_count": 2,
   "metadata": {
    "collapsed": true
   },
   "outputs": [],
   "source": [
    "import skimage"
   ]
  },
  {
   "cell_type": "code",
   "execution_count": 3,
   "metadata": {
    "collapsed": true
   },
   "outputs": [],
   "source": [
    "image_path = '/Users/prinklek/Downloads/Capstone_project/fashion-mnist_train.csv'"
   ]
  },
  {
   "cell_type": "code",
   "execution_count": 4,
   "metadata": {
    "collapsed": true
   },
   "outputs": [],
   "source": [
    "raw_img_data = pd.read_csv(image_path)"
   ]
  },
  {
   "cell_type": "code",
   "execution_count": 5,
   "metadata": {},
   "outputs": [
    {
     "data": {
      "text/plain": [
       "(59999, 785)"
      ]
     },
     "execution_count": 5,
     "metadata": {},
     "output_type": "execute_result"
    }
   ],
   "source": [
    "raw_img_data.shape"
   ]
  },
  {
   "cell_type": "code",
   "execution_count": 6,
   "metadata": {
    "collapsed": true
   },
   "outputs": [],
   "source": [
    "raw_img_data = raw_img_data.drop(raw_img_data.index[-1], axis=0 )"
   ]
  },
  {
   "cell_type": "code",
   "execution_count": 7,
   "metadata": {},
   "outputs": [
    {
     "data": {
      "text/plain": [
       "Index(['2', '0', '0.1', '0.2', '0.3', '0.4', '0.5', '0.6', '0.7', '0.8',\n",
       "       ...\n",
       "       '0.296', '0.297', '0.298', '0.299', '0.300', '0.301', '0.302', '0.303',\n",
       "       '0.304', '0.305'],\n",
       "      dtype='object', length=785)"
      ]
     },
     "execution_count": 7,
     "metadata": {},
     "output_type": "execute_result"
    }
   ],
   "source": [
    "raw_img_data.columns"
   ]
  },
  {
   "cell_type": "code",
   "execution_count": 8,
   "metadata": {},
   "outputs": [
    {
     "data": {
      "text/plain": [
       "9    6000\n",
       "8    6000\n",
       "6    6000\n",
       "5    6000\n",
       "4    6000\n",
       "3    6000\n",
       "1    6000\n",
       "0    6000\n",
       "7    5999\n",
       "2    5999\n",
       "Name: 2, dtype: int64"
      ]
     },
     "execution_count": 8,
     "metadata": {},
     "output_type": "execute_result"
    }
   ],
   "source": [
    "raw_img_data['2'].value_counts()"
   ]
  },
  {
   "cell_type": "code",
   "execution_count": 9,
   "metadata": {
    "collapsed": true
   },
   "outputs": [],
   "source": [
    "X = raw_img_data[raw_img_data.columns[1:]].iloc[:].values"
   ]
  },
  {
   "cell_type": "code",
   "execution_count": 10,
   "metadata": {},
   "outputs": [
    {
     "data": {
      "text/plain": [
       "(59998, 784)"
      ]
     },
     "execution_count": 10,
     "metadata": {},
     "output_type": "execute_result"
    }
   ],
   "source": [
    "X.shape"
   ]
  },
  {
   "cell_type": "code",
   "execution_count": 11,
   "metadata": {
    "collapsed": true
   },
   "outputs": [],
   "source": [
    "y = raw_img_data['2'].values"
   ]
  },
  {
   "cell_type": "code",
   "execution_count": 12,
   "metadata": {
    "collapsed": true
   },
   "outputs": [],
   "source": [
    "from sklearn.cross_validation import train_test_split\n",
    "X_train, X_test, y_train, y_test = train_test_split(X, y, test_size=0.5)"
   ]
  },
  {
   "cell_type": "code",
   "execution_count": 13,
   "metadata": {},
   "outputs": [
    {
     "data": {
      "text/plain": [
       "array([[  0,   0,   0, ..., 122,   0,   0],\n",
       "       [  0,   0,   0, ...,   0,   0,   0],\n",
       "       [  0,   0,   0, ...,   0,   0,   0],\n",
       "       [  0,   0,   0, ...,   0,   0,   0],\n",
       "       [  0,   0,   0, ...,   0,   0,   0]])"
      ]
     },
     "execution_count": 13,
     "metadata": {},
     "output_type": "execute_result"
    }
   ],
   "source": [
    "X_train[:5]"
   ]
  },
  {
   "cell_type": "code",
   "execution_count": 228,
   "metadata": {},
   "outputs": [
    {
     "data": {
      "text/plain": [
       "array([7, 3, 3, 5, 4])"
      ]
     },
     "execution_count": 228,
     "metadata": {},
     "output_type": "execute_result"
    }
   ],
   "source": [
    "y_train[:5]"
   ]
  },
  {
   "cell_type": "code",
   "execution_count": 229,
   "metadata": {},
   "outputs": [
    {
     "name": "stderr",
     "output_type": "stream",
     "text": [
      "/Users/prinklek/anaconda3/lib/python3.6/site-packages/skimage/feature/_hog.py:119: skimage_deprecation: Default value of `block_norm`==`L1` is deprecated and will be changed to `L2-Hys` in v0.15\n",
      "  'be changed to `L2-Hys` in v0.15', skimage_deprecation)\n"
     ]
    }
   ],
   "source": [
    "from skimage import feature\n",
    "feat_df = pd.DataFrame(np.empty((X_train.shape[0],81)))\n",
    "for idx, row in enumerate(X_train):\n",
    "    a = row.reshape(28, 28)\n",
    "    X_feat = skimage.feature.hog(a)\n",
    "    feat_df.iloc[idx,:] = X_feat"
   ]
  },
  {
   "cell_type": "code",
   "execution_count": 230,
   "metadata": {},
   "outputs": [
    {
     "data": {
      "text/html": [
       "<div>\n",
       "<style>\n",
       "    .dataframe thead tr:only-child th {\n",
       "        text-align: right;\n",
       "    }\n",
       "\n",
       "    .dataframe thead th {\n",
       "        text-align: left;\n",
       "    }\n",
       "\n",
       "    .dataframe tbody tr th {\n",
       "        vertical-align: top;\n",
       "    }\n",
       "</style>\n",
       "<table border=\"1\" class=\"dataframe\">\n",
       "  <thead>\n",
       "    <tr style=\"text-align: right;\">\n",
       "      <th></th>\n",
       "      <th>0</th>\n",
       "      <th>1</th>\n",
       "      <th>2</th>\n",
       "      <th>3</th>\n",
       "      <th>4</th>\n",
       "      <th>5</th>\n",
       "      <th>6</th>\n",
       "      <th>7</th>\n",
       "      <th>8</th>\n",
       "      <th>9</th>\n",
       "      <th>...</th>\n",
       "      <th>71</th>\n",
       "      <th>72</th>\n",
       "      <th>73</th>\n",
       "      <th>74</th>\n",
       "      <th>75</th>\n",
       "      <th>76</th>\n",
       "      <th>77</th>\n",
       "      <th>78</th>\n",
       "      <th>79</th>\n",
       "      <th>80</th>\n",
       "    </tr>\n",
       "  </thead>\n",
       "  <tbody>\n",
       "    <tr>\n",
       "      <th>29994</th>\n",
       "      <td>0.000000</td>\n",
       "      <td>0.000000</td>\n",
       "      <td>0.000000</td>\n",
       "      <td>0.000000</td>\n",
       "      <td>0.000000</td>\n",
       "      <td>0.000000</td>\n",
       "      <td>0.000000</td>\n",
       "      <td>0.000000</td>\n",
       "      <td>0.000000</td>\n",
       "      <td>0.063793</td>\n",
       "      <td>...</td>\n",
       "      <td>0.125186</td>\n",
       "      <td>0.075065</td>\n",
       "      <td>0.000000</td>\n",
       "      <td>0.000000</td>\n",
       "      <td>0.000000</td>\n",
       "      <td>0.000000</td>\n",
       "      <td>0.000000</td>\n",
       "      <td>0.000000</td>\n",
       "      <td>0.000000</td>\n",
       "      <td>0.027624</td>\n",
       "    </tr>\n",
       "    <tr>\n",
       "      <th>29995</th>\n",
       "      <td>0.021508</td>\n",
       "      <td>0.000000</td>\n",
       "      <td>0.000000</td>\n",
       "      <td>0.000000</td>\n",
       "      <td>0.000000</td>\n",
       "      <td>0.000000</td>\n",
       "      <td>0.000000</td>\n",
       "      <td>0.000000</td>\n",
       "      <td>0.000000</td>\n",
       "      <td>0.043610</td>\n",
       "      <td>...</td>\n",
       "      <td>0.018637</td>\n",
       "      <td>0.034561</td>\n",
       "      <td>0.004703</td>\n",
       "      <td>0.006490</td>\n",
       "      <td>0.012318</td>\n",
       "      <td>0.001021</td>\n",
       "      <td>0.000475</td>\n",
       "      <td>0.006026</td>\n",
       "      <td>0.007297</td>\n",
       "      <td>0.027485</td>\n",
       "    </tr>\n",
       "    <tr>\n",
       "      <th>29996</th>\n",
       "      <td>0.000000</td>\n",
       "      <td>0.000000</td>\n",
       "      <td>0.000000</td>\n",
       "      <td>0.000000</td>\n",
       "      <td>0.000000</td>\n",
       "      <td>0.000000</td>\n",
       "      <td>0.000000</td>\n",
       "      <td>0.000000</td>\n",
       "      <td>0.000000</td>\n",
       "      <td>0.000000</td>\n",
       "      <td>...</td>\n",
       "      <td>0.000000</td>\n",
       "      <td>0.000000</td>\n",
       "      <td>0.000000</td>\n",
       "      <td>0.000000</td>\n",
       "      <td>0.001804</td>\n",
       "      <td>0.129281</td>\n",
       "      <td>0.001370</td>\n",
       "      <td>0.000000</td>\n",
       "      <td>0.000000</td>\n",
       "      <td>0.000000</td>\n",
       "    </tr>\n",
       "    <tr>\n",
       "      <th>29997</th>\n",
       "      <td>0.018765</td>\n",
       "      <td>0.029351</td>\n",
       "      <td>0.025375</td>\n",
       "      <td>0.021690</td>\n",
       "      <td>0.011951</td>\n",
       "      <td>0.005002</td>\n",
       "      <td>0.003011</td>\n",
       "      <td>0.005439</td>\n",
       "      <td>0.009554</td>\n",
       "      <td>0.008590</td>\n",
       "      <td>...</td>\n",
       "      <td>0.002500</td>\n",
       "      <td>0.011987</td>\n",
       "      <td>0.010270</td>\n",
       "      <td>0.008172</td>\n",
       "      <td>0.007001</td>\n",
       "      <td>0.008270</td>\n",
       "      <td>0.006070</td>\n",
       "      <td>0.003961</td>\n",
       "      <td>0.009933</td>\n",
       "      <td>0.015332</td>\n",
       "    </tr>\n",
       "    <tr>\n",
       "      <th>29998</th>\n",
       "      <td>0.017362</td>\n",
       "      <td>0.018328</td>\n",
       "      <td>0.017931</td>\n",
       "      <td>0.007995</td>\n",
       "      <td>0.003836</td>\n",
       "      <td>0.000000</td>\n",
       "      <td>0.004008</td>\n",
       "      <td>0.000000</td>\n",
       "      <td>0.000000</td>\n",
       "      <td>0.011001</td>\n",
       "      <td>...</td>\n",
       "      <td>0.018061</td>\n",
       "      <td>0.035749</td>\n",
       "      <td>0.012488</td>\n",
       "      <td>0.011841</td>\n",
       "      <td>0.003793</td>\n",
       "      <td>0.007273</td>\n",
       "      <td>0.011166</td>\n",
       "      <td>0.001919</td>\n",
       "      <td>0.016361</td>\n",
       "      <td>0.020382</td>\n",
       "    </tr>\n",
       "  </tbody>\n",
       "</table>\n",
       "<p>5 rows × 81 columns</p>\n",
       "</div>"
      ],
      "text/plain": [
       "             0         1         2         3         4         5         6   \\\n",
       "29994  0.000000  0.000000  0.000000  0.000000  0.000000  0.000000  0.000000   \n",
       "29995  0.021508  0.000000  0.000000  0.000000  0.000000  0.000000  0.000000   \n",
       "29996  0.000000  0.000000  0.000000  0.000000  0.000000  0.000000  0.000000   \n",
       "29997  0.018765  0.029351  0.025375  0.021690  0.011951  0.005002  0.003011   \n",
       "29998  0.017362  0.018328  0.017931  0.007995  0.003836  0.000000  0.004008   \n",
       "\n",
       "             7         8         9     ...           71        72        73  \\\n",
       "29994  0.000000  0.000000  0.063793    ...     0.125186  0.075065  0.000000   \n",
       "29995  0.000000  0.000000  0.043610    ...     0.018637  0.034561  0.004703   \n",
       "29996  0.000000  0.000000  0.000000    ...     0.000000  0.000000  0.000000   \n",
       "29997  0.005439  0.009554  0.008590    ...     0.002500  0.011987  0.010270   \n",
       "29998  0.000000  0.000000  0.011001    ...     0.018061  0.035749  0.012488   \n",
       "\n",
       "             74        75        76        77        78        79        80  \n",
       "29994  0.000000  0.000000  0.000000  0.000000  0.000000  0.000000  0.027624  \n",
       "29995  0.006490  0.012318  0.001021  0.000475  0.006026  0.007297  0.027485  \n",
       "29996  0.000000  0.001804  0.129281  0.001370  0.000000  0.000000  0.000000  \n",
       "29997  0.008172  0.007001  0.008270  0.006070  0.003961  0.009933  0.015332  \n",
       "29998  0.011841  0.003793  0.007273  0.011166  0.001919  0.016361  0.020382  \n",
       "\n",
       "[5 rows x 81 columns]"
      ]
     },
     "execution_count": 230,
     "metadata": {},
     "output_type": "execute_result"
    }
   ],
   "source": [
    "feat_df.tail(5)"
   ]
  },
  {
   "cell_type": "code",
   "execution_count": 231,
   "metadata": {},
   "outputs": [
    {
     "data": {
      "text/plain": [
       "(29999, 81)"
      ]
     },
     "execution_count": 231,
     "metadata": {},
     "output_type": "execute_result"
    }
   ],
   "source": [
    "feat_df.shape"
   ]
  },
  {
   "cell_type": "code",
   "execution_count": 232,
   "metadata": {},
   "outputs": [
    {
     "data": {
      "text/plain": [
       "array([ 0.0173622 ,  0.01832837,  0.01793085,  0.00799543,  0.00383612])"
      ]
     },
     "execution_count": 232,
     "metadata": {},
     "output_type": "execute_result"
    }
   ],
   "source": [
    "X_feat[:5]"
   ]
  },
  {
   "cell_type": "code",
   "execution_count": 233,
   "metadata": {},
   "outputs": [
    {
     "data": {
      "text/plain": [
       "(81,)"
      ]
     },
     "execution_count": 233,
     "metadata": {},
     "output_type": "execute_result"
    }
   ],
   "source": [
    "X_feat.shape"
   ]
  },
  {
   "cell_type": "code",
   "execution_count": 234,
   "metadata": {},
   "outputs": [
    {
     "data": {
      "text/plain": [
       "(29999,)"
      ]
     },
     "execution_count": 234,
     "metadata": {},
     "output_type": "execute_result"
    }
   ],
   "source": [
    "y_train.shape"
   ]
  },
  {
   "cell_type": "code",
   "execution_count": 235,
   "metadata": {},
   "outputs": [
    {
     "data": {
      "text/plain": [
       "(29999, 784)"
      ]
     },
     "execution_count": 235,
     "metadata": {},
     "output_type": "execute_result"
    }
   ],
   "source": [
    "X_train.shape"
   ]
  },
  {
   "cell_type": "code",
   "execution_count": 236,
   "metadata": {},
   "outputs": [
    {
     "data": {
      "text/plain": [
       "(29999,)"
      ]
     },
     "execution_count": 236,
     "metadata": {},
     "output_type": "execute_result"
    }
   ],
   "source": [
    "y_test.shape"
   ]
  },
  {
   "cell_type": "code",
   "execution_count": 237,
   "metadata": {},
   "outputs": [
    {
     "data": {
      "text/plain": [
       "(29999,)"
      ]
     },
     "execution_count": 237,
     "metadata": {},
     "output_type": "execute_result"
    }
   ],
   "source": [
    "y_train.shape"
   ]
  },
  {
   "cell_type": "code",
   "execution_count": 238,
   "metadata": {
    "collapsed": true
   },
   "outputs": [],
   "source": [
    "from sklearn import linear_model\n",
    "logr = linear_model.LogisticRegression()"
   ]
  },
  {
   "cell_type": "code",
   "execution_count": 239,
   "metadata": {},
   "outputs": [
    {
     "data": {
      "text/plain": [
       "LogisticRegression(C=1.0, class_weight=None, dual=False, fit_intercept=True,\n",
       "          intercept_scaling=1, max_iter=100, multi_class='ovr', n_jobs=1,\n",
       "          penalty='l2', random_state=None, solver='liblinear', tol=0.0001,\n",
       "          verbose=0, warm_start=False)"
      ]
     },
     "execution_count": 239,
     "metadata": {},
     "output_type": "execute_result"
    }
   ],
   "source": [
    "logr.fit(feat_df, y_train)"
   ]
  },
  {
   "cell_type": "code",
   "execution_count": 240,
   "metadata": {},
   "outputs": [
    {
     "data": {
      "text/plain": [
       "0.7678922630754359"
      ]
     },
     "execution_count": 240,
     "metadata": {},
     "output_type": "execute_result"
    }
   ],
   "source": [
    "logr.score(feat_df, y_train)"
   ]
  },
  {
   "cell_type": "code",
   "execution_count": 241,
   "metadata": {},
   "outputs": [
    {
     "name": "stderr",
     "output_type": "stream",
     "text": [
      "/Users/prinklek/anaconda3/lib/python3.6/site-packages/skimage/feature/_hog.py:119: skimage_deprecation: Default value of `block_norm`==`L1` is deprecated and will be changed to `L2-Hys` in v0.15\n",
      "  'be changed to `L2-Hys` in v0.15', skimage_deprecation)\n"
     ]
    }
   ],
   "source": [
    "from skimage import feature\n",
    "feat_df_T = pd.DataFrame(np.empty((X_test.shape[0],81)))\n",
    "for idx, row in enumerate(X_test):\n",
    "    b = row.reshape(28, 28)\n",
    "    T_X_feat = skimage.feature.hog(b)\n",
    "    feat_df_T.iloc[idx,:] = T_X_feat"
   ]
  },
  {
   "cell_type": "code",
   "execution_count": 242,
   "metadata": {
    "collapsed": true
   },
   "outputs": [],
   "source": [
    "logr_yhat = logr.predict(feat_df_T)"
   ]
  },
  {
   "cell_type": "code",
   "execution_count": 243,
   "metadata": {},
   "outputs": [
    {
     "data": {
      "text/plain": [
       "array([9, 7, 7, ..., 4, 3, 8])"
      ]
     },
     "execution_count": 243,
     "metadata": {},
     "output_type": "execute_result"
    }
   ],
   "source": [
    "logr_yhat"
   ]
  },
  {
   "cell_type": "code",
   "execution_count": 244,
   "metadata": {},
   "outputs": [
    {
     "data": {
      "text/plain": [
       "0.76695889862995437"
      ]
     },
     "execution_count": 244,
     "metadata": {},
     "output_type": "execute_result"
    }
   ],
   "source": [
    "logr.score(feat_df_T, y_test)"
   ]
  },
  {
   "cell_type": "code",
   "execution_count": 245,
   "metadata": {
    "collapsed": true
   },
   "outputs": [],
   "source": [
    "yhat = logr.predict(feat_df) # this is for training set"
   ]
  },
  {
   "cell_type": "code",
   "execution_count": 29,
   "metadata": {
    "collapsed": true
   },
   "outputs": [],
   "source": [
    "from sklearn.metrics import classification_report\n",
    "from sklearn.metrics import confusion_matrix"
   ]
  },
  {
   "cell_type": "code",
   "execution_count": 247,
   "metadata": {},
   "outputs": [
    {
     "name": "stdout",
     "output_type": "stream",
     "text": [
      "             precision    recall  f1-score   support\n",
      "\n",
      "          0       0.69      0.82      0.75      2997\n",
      "          1       0.94      0.94      0.94      3035\n",
      "          2       0.62      0.64      0.63      3060\n",
      "          3       0.75      0.80      0.78      2939\n",
      "          4       0.61      0.70      0.65      3047\n",
      "          5       0.87      0.83      0.85      2950\n",
      "          6       0.51      0.28      0.36      3030\n",
      "          7       0.81      0.88      0.84      2993\n",
      "          8       0.89      0.90      0.90      2995\n",
      "          9       0.92      0.91      0.92      2953\n",
      "\n",
      "avg / total       0.76      0.77      0.76     29999\n",
      "\n"
     ]
    }
   ],
   "source": [
    "print(classification_report(y_train, yhat))"
   ]
  },
  {
   "cell_type": "code",
   "execution_count": 248,
   "metadata": {},
   "outputs": [
    {
     "name": "stdout",
     "output_type": "stream",
     "text": [
      "             precision    recall  f1-score   support\n",
      "\n",
      "          0       0.69      0.83      0.75      3003\n",
      "          1       0.92      0.93      0.93      2965\n",
      "          2       0.61      0.65      0.63      2939\n",
      "          3       0.75      0.79      0.77      3061\n",
      "          4       0.60      0.68      0.64      2953\n",
      "          5       0.87      0.83      0.85      3050\n",
      "          6       0.49      0.27      0.35      2970\n",
      "          7       0.81      0.88      0.84      3006\n",
      "          8       0.91      0.90      0.90      3005\n",
      "          9       0.93      0.91      0.92      3047\n",
      "\n",
      "avg / total       0.76      0.77      0.76     29999\n",
      "\n"
     ]
    }
   ],
   "source": [
    "print(classification_report(y_test,logr_yhat))"
   ]
  },
  {
   "cell_type": "code",
   "execution_count": 249,
   "metadata": {
    "scrolled": true
   },
   "outputs": [
    {
     "name": "stdout",
     "output_type": "stream",
     "text": [
      "[[2444   19  122  169   41   16  126    0   60    0]\n",
      " [   8 2838   44  101   10    1   28    0    5    0]\n",
      " [ 148    3 1972   58  482    2  306    0   89    0]\n",
      " [ 146  125   61 2344  156    3   89    0   15    0]\n",
      " [  40   17  377  178 2122    3  263    0   47    0]\n",
      " [   7    0    0    4    0 2445    0  401   25   68]\n",
      " [ 707    9  576  158  641    2  862    0   75    0]\n",
      " [   0    0    0    0    0  225    0 2622    3  143]\n",
      " [  33    9   37   74   53   44   21    9 2708    7]\n",
      " [   0    0    0   19    0   62    0  190    3 2679]]\n"
     ]
    }
   ],
   "source": [
    "print(confusion_matrix(y_train,yhat))"
   ]
  },
  {
   "cell_type": "code",
   "execution_count": 250,
   "metadata": {},
   "outputs": [
    {
     "name": "stdout",
     "output_type": "stream",
     "text": [
      "[[2478   22  110  170   37    8  132    0   46    0]\n",
      " [  14 2772   43  109    6    1   15    0    5    0]\n",
      " [ 156    4 1907   62  475    5  262    0   68    0]\n",
      " [ 122  164   75 2431  150    7   94    1   17    0]\n",
      " [  44   15  368  196 1998    3  294    0   35    0]\n",
      " [   4    0    0    5    0 2528    0  418   17   78]\n",
      " [ 759   18  571  162  586    9  795    0   70    0]\n",
      " [   0    0    0    1    0  240    0 2640    2  123]\n",
      " [  32    4   37   74   70   47   26   11 2697    7]\n",
      " [   0    1    0   25    0   72    0  185    2 2762]]\n"
     ]
    }
   ],
   "source": [
    "print(confusion_matrix(y_test,logr_yhat))"
   ]
  },
  {
   "cell_type": "code",
   "execution_count": 14,
   "metadata": {},
   "outputs": [
    {
     "name": "stderr",
     "output_type": "stream",
     "text": [
      "/Users/prinklek/anaconda3/lib/python3.6/site-packages/skimage/feature/_hog.py:119: skimage_deprecation: Default value of `block_norm`==`L1` is deprecated and will be changed to `L2-Hys` in v0.15\n",
      "  'be changed to `L2-Hys` in v0.15', skimage_deprecation)\n"
     ]
    }
   ],
   "source": [
    "from skimage import feature\n",
    "XTR_feat_df_1 = pd.DataFrame(np.empty((X_train.shape[0],81)))\n",
    "for idx, row in enumerate(X_train):\n",
    "    d = row.reshape(28, 28)\n",
    "    XT_feat_1 = skimage.feature.hog(d)\n",
    "    XTR_feat_df_1.iloc[idx,:] = XT_feat_1"
   ]
  },
  {
   "cell_type": "code",
   "execution_count": 15,
   "metadata": {
    "collapsed": true
   },
   "outputs": [],
   "source": [
    "XTRfeat_df_2 = pd.DataFrame(np.empty((X_train.shape[0],2)))\n",
    "for idx, row in enumerate(X_train):\n",
    "    mean_val = np.mean(row)\n",
    "    median_val = np.median(row)\n",
    "    XTRfeat_df_2.iloc[idx,0] = mean_val\n",
    "    XTRfeat_df_2.iloc[idx,1] = median_val"
   ]
  },
  {
   "cell_type": "code",
   "execution_count": 16,
   "metadata": {},
   "outputs": [
    {
     "name": "stderr",
     "output_type": "stream",
     "text": [
      "/Users/prinklek/anaconda3/lib/python3.6/site-packages/skimage/feature/_hog.py:119: skimage_deprecation: Default value of `block_norm`==`L1` is deprecated and will be changed to `L2-Hys` in v0.15\n",
      "  'be changed to `L2-Hys` in v0.15', skimage_deprecation)\n"
     ]
    }
   ],
   "source": [
    "from skimage import feature\n",
    "XTfeat_df = pd.DataFrame(np.empty((X_test.shape[0],81)))\n",
    "for idx, row in enumerate(X_test):\n",
    "    b = row.reshape(28, 28)\n",
    "    XT_feat = skimage.feature.hog(b)\n",
    "    XTfeat_df.iloc[idx,:] = XT_feat"
   ]
  },
  {
   "cell_type": "code",
   "execution_count": 17,
   "metadata": {
    "collapsed": true
   },
   "outputs": [],
   "source": [
    "XTfeat_df2 = pd.DataFrame(np.empty((X_test.shape[0],2)))\n",
    "for idx, row in enumerate(X_test):\n",
    "    mean_val = np.mean(row)\n",
    "    median_val = np.median(row)\n",
    "    XTfeat_df2.iloc[idx,0] = mean_val\n",
    "    XTfeat_df2.iloc[idx,1] = median_val"
   ]
  },
  {
   "cell_type": "code",
   "execution_count": 18,
   "metadata": {},
   "outputs": [
    {
     "data": {
      "text/html": [
       "<div>\n",
       "<style>\n",
       "    .dataframe thead tr:only-child th {\n",
       "        text-align: right;\n",
       "    }\n",
       "\n",
       "    .dataframe thead th {\n",
       "        text-align: left;\n",
       "    }\n",
       "\n",
       "    .dataframe tbody tr th {\n",
       "        vertical-align: top;\n",
       "    }\n",
       "</style>\n",
       "<table border=\"1\" class=\"dataframe\">\n",
       "  <thead>\n",
       "    <tr style=\"text-align: right;\">\n",
       "      <th></th>\n",
       "      <th>0</th>\n",
       "      <th>1</th>\n",
       "      <th>2</th>\n",
       "      <th>3</th>\n",
       "      <th>4</th>\n",
       "      <th>5</th>\n",
       "      <th>6</th>\n",
       "      <th>7</th>\n",
       "      <th>8</th>\n",
       "      <th>9</th>\n",
       "      <th>...</th>\n",
       "      <th>71</th>\n",
       "      <th>72</th>\n",
       "      <th>73</th>\n",
       "      <th>74</th>\n",
       "      <th>75</th>\n",
       "      <th>76</th>\n",
       "      <th>77</th>\n",
       "      <th>78</th>\n",
       "      <th>79</th>\n",
       "      <th>80</th>\n",
       "    </tr>\n",
       "  </thead>\n",
       "  <tbody>\n",
       "    <tr>\n",
       "      <th>0</th>\n",
       "      <td>0.014139</td>\n",
       "      <td>0.000561</td>\n",
       "      <td>0.013153</td>\n",
       "      <td>0.012262</td>\n",
       "      <td>0.010298</td>\n",
       "      <td>0.000155</td>\n",
       "      <td>0.000000</td>\n",
       "      <td>0.0</td>\n",
       "      <td>0.000000</td>\n",
       "      <td>0.005833</td>\n",
       "      <td>...</td>\n",
       "      <td>0.002283</td>\n",
       "      <td>0.006274</td>\n",
       "      <td>0.005015</td>\n",
       "      <td>0.002866</td>\n",
       "      <td>0.004427</td>\n",
       "      <td>0.009845</td>\n",
       "      <td>0.003754</td>\n",
       "      <td>0.001468</td>\n",
       "      <td>0.000306</td>\n",
       "      <td>0.000126</td>\n",
       "    </tr>\n",
       "    <tr>\n",
       "      <th>1</th>\n",
       "      <td>0.000000</td>\n",
       "      <td>0.000000</td>\n",
       "      <td>0.000000</td>\n",
       "      <td>0.000000</td>\n",
       "      <td>0.000000</td>\n",
       "      <td>0.000000</td>\n",
       "      <td>0.000000</td>\n",
       "      <td>0.0</td>\n",
       "      <td>0.000000</td>\n",
       "      <td>0.000000</td>\n",
       "      <td>...</td>\n",
       "      <td>0.002080</td>\n",
       "      <td>0.007353</td>\n",
       "      <td>0.007349</td>\n",
       "      <td>0.000000</td>\n",
       "      <td>0.004413</td>\n",
       "      <td>0.096669</td>\n",
       "      <td>0.035368</td>\n",
       "      <td>0.001416</td>\n",
       "      <td>0.009832</td>\n",
       "      <td>0.000000</td>\n",
       "    </tr>\n",
       "    <tr>\n",
       "      <th>2</th>\n",
       "      <td>0.012478</td>\n",
       "      <td>0.006603</td>\n",
       "      <td>0.009530</td>\n",
       "      <td>0.000000</td>\n",
       "      <td>0.000000</td>\n",
       "      <td>0.005207</td>\n",
       "      <td>0.005747</td>\n",
       "      <td>0.0</td>\n",
       "      <td>0.000000</td>\n",
       "      <td>0.014228</td>\n",
       "      <td>...</td>\n",
       "      <td>0.019525</td>\n",
       "      <td>0.027962</td>\n",
       "      <td>0.007241</td>\n",
       "      <td>0.000000</td>\n",
       "      <td>0.000000</td>\n",
       "      <td>0.014449</td>\n",
       "      <td>0.013424</td>\n",
       "      <td>0.009044</td>\n",
       "      <td>0.001975</td>\n",
       "      <td>0.013991</td>\n",
       "    </tr>\n",
       "    <tr>\n",
       "      <th>3</th>\n",
       "      <td>0.000000</td>\n",
       "      <td>0.000000</td>\n",
       "      <td>0.000000</td>\n",
       "      <td>0.000000</td>\n",
       "      <td>0.000000</td>\n",
       "      <td>0.000000</td>\n",
       "      <td>0.000000</td>\n",
       "      <td>0.0</td>\n",
       "      <td>0.000000</td>\n",
       "      <td>0.000000</td>\n",
       "      <td>...</td>\n",
       "      <td>0.015768</td>\n",
       "      <td>0.002052</td>\n",
       "      <td>0.007835</td>\n",
       "      <td>0.006966</td>\n",
       "      <td>0.026054</td>\n",
       "      <td>0.052974</td>\n",
       "      <td>0.019019</td>\n",
       "      <td>0.014149</td>\n",
       "      <td>0.019383</td>\n",
       "      <td>0.006002</td>\n",
       "    </tr>\n",
       "    <tr>\n",
       "      <th>4</th>\n",
       "      <td>0.001118</td>\n",
       "      <td>0.012639</td>\n",
       "      <td>0.009889</td>\n",
       "      <td>0.026707</td>\n",
       "      <td>0.013652</td>\n",
       "      <td>0.005593</td>\n",
       "      <td>0.000056</td>\n",
       "      <td>0.0</td>\n",
       "      <td>0.003934</td>\n",
       "      <td>0.001326</td>\n",
       "      <td>...</td>\n",
       "      <td>0.000000</td>\n",
       "      <td>0.009722</td>\n",
       "      <td>0.003515</td>\n",
       "      <td>0.027891</td>\n",
       "      <td>0.011905</td>\n",
       "      <td>0.062106</td>\n",
       "      <td>0.032246</td>\n",
       "      <td>0.013399</td>\n",
       "      <td>0.012012</td>\n",
       "      <td>0.001106</td>\n",
       "    </tr>\n",
       "  </tbody>\n",
       "</table>\n",
       "<p>5 rows × 81 columns</p>\n",
       "</div>"
      ],
      "text/plain": [
       "         0         1         2         3         4         5         6    7   \\\n",
       "0  0.014139  0.000561  0.013153  0.012262  0.010298  0.000155  0.000000  0.0   \n",
       "1  0.000000  0.000000  0.000000  0.000000  0.000000  0.000000  0.000000  0.0   \n",
       "2  0.012478  0.006603  0.009530  0.000000  0.000000  0.005207  0.005747  0.0   \n",
       "3  0.000000  0.000000  0.000000  0.000000  0.000000  0.000000  0.000000  0.0   \n",
       "4  0.001118  0.012639  0.009889  0.026707  0.013652  0.005593  0.000056  0.0   \n",
       "\n",
       "         8         9     ...           71        72        73        74  \\\n",
       "0  0.000000  0.005833    ...     0.002283  0.006274  0.005015  0.002866   \n",
       "1  0.000000  0.000000    ...     0.002080  0.007353  0.007349  0.000000   \n",
       "2  0.000000  0.014228    ...     0.019525  0.027962  0.007241  0.000000   \n",
       "3  0.000000  0.000000    ...     0.015768  0.002052  0.007835  0.006966   \n",
       "4  0.003934  0.001326    ...     0.000000  0.009722  0.003515  0.027891   \n",
       "\n",
       "         75        76        77        78        79        80  \n",
       "0  0.004427  0.009845  0.003754  0.001468  0.000306  0.000126  \n",
       "1  0.004413  0.096669  0.035368  0.001416  0.009832  0.000000  \n",
       "2  0.000000  0.014449  0.013424  0.009044  0.001975  0.013991  \n",
       "3  0.026054  0.052974  0.019019  0.014149  0.019383  0.006002  \n",
       "4  0.011905  0.062106  0.032246  0.013399  0.012012  0.001106  \n",
       "\n",
       "[5 rows x 81 columns]"
      ]
     },
     "execution_count": 18,
     "metadata": {},
     "output_type": "execute_result"
    }
   ],
   "source": [
    "XTfeat_df.head(5)"
   ]
  },
  {
   "cell_type": "code",
   "execution_count": 19,
   "metadata": {},
   "outputs": [
    {
     "data": {
      "text/html": [
       "<div>\n",
       "<style>\n",
       "    .dataframe thead tr:only-child th {\n",
       "        text-align: right;\n",
       "    }\n",
       "\n",
       "    .dataframe thead th {\n",
       "        text-align: left;\n",
       "    }\n",
       "\n",
       "    .dataframe tbody tr th {\n",
       "        vertical-align: top;\n",
       "    }\n",
       "</style>\n",
       "<table border=\"1\" class=\"dataframe\">\n",
       "  <thead>\n",
       "    <tr style=\"text-align: right;\">\n",
       "      <th></th>\n",
       "      <th>0</th>\n",
       "      <th>1</th>\n",
       "    </tr>\n",
       "  </thead>\n",
       "  <tbody>\n",
       "    <tr>\n",
       "      <th>0</th>\n",
       "      <td>132.776786</td>\n",
       "      <td>198.0</td>\n",
       "    </tr>\n",
       "    <tr>\n",
       "      <th>1</th>\n",
       "      <td>41.934949</td>\n",
       "      <td>0.0</td>\n",
       "    </tr>\n",
       "    <tr>\n",
       "      <th>2</th>\n",
       "      <td>37.637755</td>\n",
       "      <td>0.0</td>\n",
       "    </tr>\n",
       "    <tr>\n",
       "      <th>3</th>\n",
       "      <td>26.880102</td>\n",
       "      <td>0.0</td>\n",
       "    </tr>\n",
       "    <tr>\n",
       "      <th>4</th>\n",
       "      <td>41.463010</td>\n",
       "      <td>2.0</td>\n",
       "    </tr>\n",
       "  </tbody>\n",
       "</table>\n",
       "</div>"
      ],
      "text/plain": [
       "            0      1\n",
       "0  132.776786  198.0\n",
       "1   41.934949    0.0\n",
       "2   37.637755    0.0\n",
       "3   26.880102    0.0\n",
       "4   41.463010    2.0"
      ]
     },
     "execution_count": 19,
     "metadata": {},
     "output_type": "execute_result"
    }
   ],
   "source": [
    "XTfeat_df2.head(5)"
   ]
  },
  {
   "cell_type": "code",
   "execution_count": 20,
   "metadata": {
    "collapsed": true
   },
   "outputs": [],
   "source": [
    "import pandas as pd\n",
    "XTfeat_df3 = pd.concat([XTfeat_df, XTfeat_df2], axis=1) # test"
   ]
  },
  {
   "cell_type": "code",
   "execution_count": 21,
   "metadata": {
    "collapsed": true
   },
   "outputs": [],
   "source": [
    "XTRfeat_df_4 = pd.concat([XTR_feat_df_1, XTRfeat_df_2],axis=1) # train "
   ]
  },
  {
   "cell_type": "code",
   "execution_count": 22,
   "metadata": {},
   "outputs": [
    {
     "data": {
      "text/plain": [
       "(29999, 83)"
      ]
     },
     "execution_count": 22,
     "metadata": {},
     "output_type": "execute_result"
    }
   ],
   "source": [
    "XTRfeat_df_4.shape"
   ]
  },
  {
   "cell_type": "code",
   "execution_count": 23,
   "metadata": {},
   "outputs": [
    {
     "data": {
      "text/plain": [
       "(29999, 2)"
      ]
     },
     "execution_count": 23,
     "metadata": {},
     "output_type": "execute_result"
    }
   ],
   "source": [
    "XTfeat_df2.shape"
   ]
  },
  {
   "cell_type": "code",
   "execution_count": 24,
   "metadata": {},
   "outputs": [
    {
     "data": {
      "text/plain": [
       "(29999, 81)"
      ]
     },
     "execution_count": 24,
     "metadata": {},
     "output_type": "execute_result"
    }
   ],
   "source": [
    "XTfeat_df.shape"
   ]
  },
  {
   "cell_type": "code",
   "execution_count": 25,
   "metadata": {},
   "outputs": [
    {
     "data": {
      "text/plain": [
       "LogisticRegression(C=1.0, class_weight=None, dual=False, fit_intercept=True,\n",
       "          intercept_scaling=1, max_iter=100, multi_class='ovr', n_jobs=1,\n",
       "          penalty='l2', random_state=None, solver='liblinear', tol=0.0001,\n",
       "          verbose=0, warm_start=False)"
      ]
     },
     "execution_count": 25,
     "metadata": {},
     "output_type": "execute_result"
    }
   ],
   "source": [
    "from sklearn import linear_model\n",
    "logr = linear_model.LogisticRegression()\n",
    "logr.fit(XTRfeat_df_4, y_train)"
   ]
  },
  {
   "cell_type": "code",
   "execution_count": 26,
   "metadata": {},
   "outputs": [
    {
     "data": {
      "text/plain": [
       "0.76469215640521349"
      ]
     },
     "execution_count": 26,
     "metadata": {},
     "output_type": "execute_result"
    }
   ],
   "source": [
    "logr.score(XTRfeat_df_4, y_train)"
   ]
  },
  {
   "cell_type": "code",
   "execution_count": 27,
   "metadata": {
    "collapsed": true
   },
   "outputs": [],
   "source": [
    "lr_yhat_2 = logr.predict(XTRfeat_df_4)"
   ]
  },
  {
   "cell_type": "code",
   "execution_count": 30,
   "metadata": {},
   "outputs": [
    {
     "name": "stdout",
     "output_type": "stream",
     "text": [
      "[[2378   18   80  282   31   33  116    1   62    0]\n",
      " [   9 2805   34  122    4    5   21    0    4    0]\n",
      " [ 103    3 1984   51  439    9  350    0  105    0]\n",
      " [  80  178   55 2420  118   38  112    0   17    0]\n",
      " [  25   12  351  289 1946    4  320    0   60    0]\n",
      " [   7    0    0    6    0 2521    0  337   15   97]\n",
      " [ 653   11  614  199  495   28  917    0   94    0]\n",
      " [   0    0    0    0    0  273    0 2557    1  128]\n",
      " [  24    6   34   89   41   77   24    7 2721    7]\n",
      " [   1    0    0   13    0   67    0  168    2 2691]]\n"
     ]
    }
   ],
   "source": [
    "print(confusion_matrix(y_train,lr_yhat_2))"
   ]
  },
  {
   "cell_type": "code",
   "execution_count": 31,
   "metadata": {},
   "outputs": [
    {
     "data": {
      "text/plain": [
       "0.76462548751625059"
      ]
     },
     "execution_count": 31,
     "metadata": {},
     "output_type": "execute_result"
    }
   ],
   "source": [
    "logr.score(XTfeat_df3, y_test)"
   ]
  },
  {
   "cell_type": "code",
   "execution_count": 32,
   "metadata": {
    "collapsed": true
   },
   "outputs": [],
   "source": [
    "yhat_4 = logr.predict(XTfeat_df3)"
   ]
  },
  {
   "cell_type": "code",
   "execution_count": 33,
   "metadata": {
    "collapsed": true
   },
   "outputs": [],
   "source": [
    "from sklearn.metrics import classification_report\n",
    "from sklearn.metrics import confusion_matrix"
   ]
  },
  {
   "cell_type": "code",
   "execution_count": 34,
   "metadata": {},
   "outputs": [
    {
     "name": "stdout",
     "output_type": "stream",
     "text": [
      "             precision    recall  f1-score   support\n",
      "\n",
      "          0       0.72      0.79      0.76      2999\n",
      "          1       0.93      0.93      0.93      2996\n",
      "          2       0.62      0.65      0.63      2955\n",
      "          3       0.71      0.82      0.76      2982\n",
      "          4       0.63      0.66      0.65      2993\n",
      "          5       0.84      0.84      0.84      3017\n",
      "          6       0.49      0.29      0.36      2989\n",
      "          7       0.83      0.86      0.84      3040\n",
      "          8       0.88      0.89      0.88      2970\n",
      "          9       0.91      0.91      0.91      3058\n",
      "\n",
      "avg / total       0.76      0.76      0.76     29999\n",
      "\n"
     ]
    }
   ],
   "source": [
    "print(classification_report(y_test,yhat_4))"
   ]
  },
  {
   "cell_type": "code",
   "execution_count": 35,
   "metadata": {},
   "outputs": [
    {
     "name": "stdout",
     "output_type": "stream",
     "text": [
      "[[2381   17   96  261   40   26  111    0   67    0]\n",
      " [  12 2795   35  113    5    3   26    0    7    0]\n",
      " [ 109    5 1906   50  458    7  307    0  113    0]\n",
      " [  76  157   46 2442  111   33  101    1   15    0]\n",
      " [  28   12  345  245 1966   12  336    0   49    0]\n",
      " [   5    0    0    6    0 2538    3  350   12  103]\n",
      " [ 661   14  631  207  490   18  859    0  108    1]\n",
      " [   0    0    0    0    0  268    0 2609    1  162]\n",
      " [  31   13   36  105   32   69   22   10 2648    4]\n",
      " [   1    1    0   15    0   61    1  183    2 2794]]\n"
     ]
    }
   ],
   "source": [
    "print(confusion_matrix(y_test,yhat_4))"
   ]
  },
  {
   "cell_type": "code",
   "execution_count": 36,
   "metadata": {},
   "outputs": [
    {
     "name": "stderr",
     "output_type": "stream",
     "text": [
      "/Users/prinklek/anaconda3/lib/python3.6/site-packages/skimage/feature/_hog.py:119: skimage_deprecation: Default value of `block_norm`==`L1` is deprecated and will be changed to `L2-Hys` in v0.15\n",
      "  'be changed to `L2-Hys` in v0.15', skimage_deprecation)\n"
     ]
    }
   ],
   "source": [
    "from skimage import feature\n",
    "XTRfeat_df = pd.DataFrame(np.empty((X_train.shape[0],81)))\n",
    "for idx, row in enumerate(X_train):\n",
    "    c = row.reshape(28, 28)\n",
    "    XTR_feat = skimage.feature.hog(c)\n",
    "    XTfeat_df.iloc[idx,:] = XT_feat"
   ]
  },
  {
   "cell_type": "code",
   "execution_count": 37,
   "metadata": {
    "collapsed": true
   },
   "outputs": [],
   "source": [
    "import matplotlib.pyplot as plt\n",
    "import numpy as np\n",
    "import pandas as pd\n",
    "import seaborn as sns\n",
    "import scipy.stats as stats\n",
    "from sklearn.tree import DecisionTreeClassifier\n",
    "from sklearn.metrics import accuracy_score\n",
    "from sklearn.ensemble import RandomForestClassifier"
   ]
  },
  {
   "cell_type": "code",
   "execution_count": 38,
   "metadata": {},
   "outputs": [
    {
     "name": "stdout",
     "output_type": "stream",
     "text": [
      "dtc acc: 0.761958731958\n",
      "rf acc: 0.876529217641\n"
     ]
    }
   ],
   "source": [
    "rf = RandomForestClassifier(n_estimators=500, \n",
    "                  max_depth=None, \n",
    "                  max_features='auto')\n",
    "dtc = DecisionTreeClassifier(max_depth=None, \n",
    "                             max_features='auto')\n",
    "\n",
    "dtc.fit(X_train, y_train)\n",
    "print('dtc acc:', dtc.score(X_test, y_test))\n",
    "\n",
    "rf.fit(X_train, y_train)\n",
    "print('rf acc:', rf.score(X_test, y_test))"
   ]
  },
  {
   "cell_type": "code",
   "execution_count": 39,
   "metadata": {},
   "outputs": [
    {
     "name": "stdout",
     "output_type": "stream",
     "text": [
      "rfc acc: 0.876795893196\n"
     ]
    }
   ],
   "source": [
    "from sklearn.ensemble import RandomForestClassifier\n",
    "\n",
    "rfc = RandomForestClassifier(500)\n",
    "\n",
    "rfc.fit(X_train, y_train)\n",
    "print('rfc acc:', rfc.score(X_test, y_test))"
   ]
  },
  {
   "cell_type": "code",
   "execution_count": 40,
   "metadata": {},
   "outputs": [
    {
     "name": "stdout",
     "output_type": "stream",
     "text": [
      "[[2549    2   46  104   15    3  258    0   22    0]\n",
      " [   8 2899   11   62    4    0   10    0    2    0]\n",
      " [  18    0 2377   31  366    2  141    0   20    0]\n",
      " [  50   12   17 2722  107    0   66    0    8    0]\n",
      " [   2    8  229   83 2514    1  142    0   14    0]\n",
      " [   0    0    0    2    0 2897    0   82    9   27]\n",
      " [ 501    5  348   73  265    1 1733    0   63    0]\n",
      " [   0    0    0    0    0   58    0 2831    1  150]\n",
      " [   2    4   14   12   12    4   32    8 2880    2]\n",
      " [   0    0    0    0    0   35    0  118    4 2901]]\n"
     ]
    }
   ],
   "source": [
    "from sklearn.metrics import confusion_matrix, classification_report\n",
    "print(confusion_matrix(y_test, rfc.predict(X_test)))"
   ]
  },
  {
   "cell_type": "code",
   "execution_count": 41,
   "metadata": {},
   "outputs": [
    {
     "name": "stdout",
     "output_type": "stream",
     "text": [
      "             precision    recall  f1-score   support\n",
      "\n",
      "          0       0.81      0.85      0.83      2999\n",
      "          1       0.99      0.97      0.98      2996\n",
      "          2       0.78      0.80      0.79      2955\n",
      "          3       0.88      0.91      0.90      2982\n",
      "          4       0.77      0.84      0.80      2993\n",
      "          5       0.97      0.96      0.96      3017\n",
      "          6       0.73      0.58      0.65      2989\n",
      "          7       0.93      0.93      0.93      3040\n",
      "          8       0.95      0.97      0.96      2970\n",
      "          9       0.94      0.95      0.95      3058\n",
      "\n",
      "avg / total       0.88      0.88      0.88     29999\n",
      "\n"
     ]
    }
   ],
   "source": [
    "print(classification_report(y_test, rfc.predict(X_test)))"
   ]
  },
  {
   "cell_type": "code",
   "execution_count": 42,
   "metadata": {},
   "outputs": [
    {
     "name": "stderr",
     "output_type": "stream",
     "text": [
      "/Users/prinklek/anaconda3/lib/python3.6/site-packages/sklearn/utils/validation.py:429: DataConversionWarning: Data with input dtype int64 was converted to float64 by StandardScaler.\n",
      "  warnings.warn(msg, _DataConversionWarning)\n"
     ]
    },
    {
     "name": "stdout",
     "output_type": "stream",
     "text": [
      "0.834527817594\n"
     ]
    }
   ],
   "source": [
    "from sklearn.neighbors import KNeighborsClassifier\n",
    "from sklearn.preprocessing import StandardScaler\n",
    "\n",
    "std = StandardScaler()\n",
    "std.fit(X_train)\n",
    "X_train_std = std.transform(X_train)\n",
    "X_test_std = std.transform(X_test)\n",
    "\n",
    "knn = KNeighborsClassifier(2)\n",
    "\n",
    "knn.fit(X_train_std, y_train)\n",
    "print(knn.score(X_test_std, y_test))"
   ]
  },
  {
   "cell_type": "code",
   "execution_count": null,
   "metadata": {
    "collapsed": true
   },
   "outputs": [],
   "source": []
  }
 ],
 "metadata": {
  "kernelspec": {
   "display_name": "Python 3",
   "language": "python",
   "name": "python3"
  },
  "language_info": {
   "codemirror_mode": {
    "name": "ipython",
    "version": 3
   },
   "file_extension": ".py",
   "mimetype": "text/x-python",
   "name": "python",
   "nbconvert_exporter": "python",
   "pygments_lexer": "ipython3",
   "version": "3.6.1"
  }
 },
 "nbformat": 4,
 "nbformat_minor": 2
}
